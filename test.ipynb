{
 "cells": [
  {
   "cell_type": "code",
   "execution_count": 1,
   "id": "ff5a6708",
   "metadata": {},
   "outputs": [],
   "source": [
    "#Genetic Algorithm to Trade Stocks Based on Indicators (GATSBI)\n",
    "\n",
    "from pandas_datareader.data import DataReader\n",
    "import pandas as pd\n",
    "import matplotlib.pyplot as plt\n",
    "import numpy as np\n",
    "import matplotlib.dates as mdates\n",
    "%matplotlib inline\n",
    "import seaborn as sns\n",
    "sns.set(style='darkgrid', context='talk', palette='Dark2')\n",
    "import random\n",
    "from progress.bar import IncrementalBar"
   ]
  },
  {
   "cell_type": "code",
   "execution_count": 2,
   "id": "7b8a11cb",
   "metadata": {},
   "outputs": [],
   "source": [
    "start_date = '2005/01/01'\n",
    "end_date = '2022/05/16'\n",
    "my_year_month_fmt = mdates.DateFormatter('%m/%y')"
   ]
  },
  {
   "cell_type": "code",
   "execution_count": 3,
   "id": "aebfaa10",
   "metadata": {},
   "outputs": [],
   "source": [
    "class Agent():\n",
    "    def __init__(self, cash):\n",
    "        self.cash = cash\n",
    "        self.init_cash = cash\n",
    "        self.stock = 0\n",
    "        self.position = \"long\"\n",
    "        self.g = []\n",
    "        for i in range(5):\n",
    "            self.g.append(0)\n",
    "        self.date_history = []\n",
    "        self.trans_history = []\n",
    "\n",
    "    def reset(self):\n",
    "        self.cash = self.init_cash\n",
    "        self.stock = 0\n",
    "        self.position = \"long\"\n",
    "        self.date_history = []\n",
    "        self.trans_history = []\n",
    "    def randomize(self):\n",
    "        for i in range(5):\n",
    "            self.g[i] = random.uniform(-1,1)\n",
    "\n",
    "    def evaluate(self, data):\n",
    "        det = data[0]*self.g[0] + data[1]*self.g[1] + data[2]*self.g[2] + data[3]*self.g[3] + data[4]*self.g[4]\n",
    "        if det>=0:\n",
    "            self.position = \"long\"\n",
    "        if det<0:\n",
    "            self.position = \"short\"\n",
    "        return self.position\n",
    "    \n",
    "    def execute(self, price, day):\n",
    "        if self.position == \"long\":\n",
    "            if self.cash < price:\n",
    "                return \"hold\"\n",
    "            count = 0\n",
    "            while self.cash >= price:\n",
    "                count = count + 1\n",
    "                self.stock = self.stock + 1\n",
    "                self.cash = self.cash - price\n",
    "            self.date_history.append(day)\n",
    "            self.trans_history.append('buy')\n",
    "            return \"Bought \" + str(count) + \" stocks.\"\n",
    "        if self.position == \"short\" and self.stock != 0:\n",
    "            n = self.stock\n",
    "            for i in range(n):\n",
    "                self.stock = self.stock - 1\n",
    "                self.cash = self.cash + price\n",
    "            self.date_history.append(day)\n",
    "            self.trans_history.append('sell')\n",
    "            return \"Sold \" + str(n) + \" stocks.\"\n",
    "    def total_assets(self, price):\n",
    "        stock_value = self.stock * price\n",
    "        return stock_value + self.cash\n",
    "    \n"
   ]
  },
  {
   "cell_type": "code",
   "execution_count": 4,
   "id": "51a2b337",
   "metadata": {},
   "outputs": [],
   "source": [
    "class Population:\n",
    "    \n",
    "    def __init__(self, n, cash, m):\n",
    "        self.n = n\n",
    "        self.cash = cash\n",
    "        self.m = m\n",
    "        self.pop = []\n",
    "        for i in range(self.n):\n",
    "            self.pop.append(Agent(self.cash))\n",
    "        for a in self.pop:\n",
    "            a.randomize()\n",
    "            \n",
    "    def evaluate(self, data):\n",
    "        for agent in self.pop:\n",
    "            agent.evaluate(data)\n",
    "    \n",
    "    def execute(self, price, day):\n",
    "        for agent in self.pop:\n",
    "            agent.execute(price, day)\n",
    "    \n",
    "    def total_assets_all(self, price):\n",
    "        tot = 0.0\n",
    "        for a in self.pop:\n",
    "            tot = tot + a.total_assets(price)\n",
    "        return tot\n",
    "    \n",
    "    def best_agent(self, price):\n",
    "        maximum = 0\n",
    "        index = 0\n",
    "        for i in range(len(self.pop)):\n",
    "            if (self.pop[i].total_assets(price)>maximum):\n",
    "                index = i\n",
    "                maximum = self.pop[i].total_assets(price)\n",
    "        return self.pop[index]\n",
    "    \n",
    "    def average_assets(self, price):\n",
    "        return self.total_assets_all(price)/self.n\n",
    "    \n",
    "    def select(self, price):\n",
    "        threshold = random.uniform(0, self.total_assets_all(price))\n",
    "        total = 0\n",
    "        for j in range(len(self.pop)):\n",
    "            total = total+self.pop[j].total_assets(price)\n",
    "            if total >= threshold:\n",
    "                return self.pop[j]\n",
    "    \n",
    "    def generate_child(self, parent1, parent2):\n",
    "        child = Agent(self.cash)\n",
    "        for i in range(len(parent1.g)):\n",
    "            if random.uniform(0,1) > 0.5:\n",
    "                child.g[i] = parent1.g[i]\n",
    "            else:\n",
    "                child.g[i] = parent2.g[i]\n",
    "                \n",
    "            if random.uniform(0,1) <= self.m:\n",
    "                child.g[i] = random.uniform(0,1)\n",
    "        return child\n",
    "    \n",
    "    def next_generation(self, price):\n",
    "        best_agent = self.best_agent(price)\n",
    "        best_agent.reset()\n",
    "        next_gen = []\n",
    "        next_gen.append(best_agent)\n",
    "        for i in range(self.n-1):\n",
    "            parent1 = self.select(price)\n",
    "            parent2 = self.select(price)\n",
    "            next_gen.append(self.generate_child(parent1, parent2))\n",
    "        self.pop = next_gen\n",
    "    \n",
    "        "
   ]
  },
  {
   "cell_type": "code",
   "execution_count": 5,
   "id": "f7e629cc",
   "metadata": {},
   "outputs": [],
   "source": [
    "class Market:\n",
    "    \n",
    "    def __init__(self, start_date, end_date, ticker):\n",
    "        self.day = 0\n",
    "        price_df = pd.DataFrame(DataReader(ticker, 'yahoo', start = start_date, end = end_date)['Close'])\n",
    "        self.price_list = price_df['Close'].tolist()\n",
    "        two_ema_df = price_df.ewm(span=2, adjust=False).mean()\n",
    "        self.two_ema_list = two_ema_df['Close'].tolist()\n",
    "        five_ema_df = price_df.ewm(span=5, adjust=False).mean()\n",
    "        self.five_ema_list = five_ema_df['Close'].tolist()\n",
    "        ten_ema_df = price_df.ewm(span=10, adjust=False).mean()\n",
    "        self.ten_ema_list = ten_ema_df['Close'].tolist()\n",
    "        fifteen_ema_df = price_df.ewm(span=15, adjust=False).mean()\n",
    "        self.fifteen_ema_list = fifteen_ema_df['Close'].tolist()\n",
    "        \n",
    "        self.reset()\n",
    "        \n",
    "    \n",
    "    def next_day(self):\n",
    "        self.day = self.day + 1\n",
    "        self.price = self.price_list[self.day]\n",
    "        self.two_ema = self.two_ema_list[self.day]\n",
    "        self.five_ema = self.five_ema_list[self.day]\n",
    "        self.ten_ema = self.ten_ema_list[self.day]\n",
    "        self.fifteen_ema = self.fifteen_ema_list[self.day]\n",
    "    \n",
    "    def reset(self):\n",
    "        self.day = 0\n",
    "        self.price = self.price_list[0]\n",
    "        self.two_ema = self.two_ema_list[0]\n",
    "        self.five_ema = self.five_ema_list[0]\n",
    "        self.ten_ema = self.ten_ema_list[0]\n",
    "        self.fifteen_ema = self.fifteen_ema_list[0]\n",
    "        \n",
    "\n",
    "        "
   ]
  },
  {
   "cell_type": "code",
   "execution_count": 16,
   "id": "8b650b4c",
   "metadata": {},
   "outputs": [],
   "source": [
    "market = Market(start_date, end_date, 'GS')\n",
    "population = Population(1000,500,0.04)\n",
    "generations = 50\n"
   ]
  },
  {
   "cell_type": "code",
   "execution_count": 17,
   "id": "a20bfc44",
   "metadata": {},
   "outputs": [],
   "source": [
    "best_performances = []\n",
    "avg_performances = []"
   ]
  },
  {
   "cell_type": "code",
   "execution_count": 18,
   "id": "9e1a2ad5",
   "metadata": {
    "scrolled": true
   },
   "outputs": [
    {
     "name": "stdout",
     "output_type": "stream",
     "text": [
      "***Started Gen 0***\n",
      "***Average Performance: 1022.067822856903 USD***\n",
      "***Best Performance: 2570.639846801758 USD***\n",
      "***Started Gen 1***\n",
      "***Average Performance: 805.5060492095947 USD***\n",
      "***Best Performance: 1686.0699501037598 USD***\n",
      "***Started Gen 2***\n",
      "***Average Performance: 840.4427754173279 USD***\n",
      "***Best Performance: 1686.0699501037598 USD***\n",
      "***Started Gen 3***\n",
      "***Average Performance: 858.975703994751 USD***\n",
      "***Best Performance: 1686.0699501037598 USD***\n",
      "***Started Gen 4***\n",
      "***Average Performance: 878.0132733421326 USD***\n",
      "***Best Performance: 1686.0699501037598 USD***\n",
      "***Started Gen 5***\n",
      "***Average Performance: 889.8302024765014 USD***\n",
      "***Best Performance: 1686.0699501037598 USD***\n",
      "***Started Gen 6***\n",
      "***Average Performance: 897.9015704917907 USD***\n",
      "***Best Performance: 1686.0699501037598 USD***\n",
      "***Started Gen 7***\n",
      "***Average Performance: 910.1425805969238 USD***\n",
      "***Best Performance: 1686.0699501037598 USD***\n",
      "***Started Gen 8***\n",
      "***Average Performance: 904.2621400794983 USD***\n",
      "***Best Performance: 1686.0699501037598 USD***\n",
      "***Started Gen 9***\n",
      "***Average Performance: 906.4902506484985 USD***\n",
      "***Best Performance: 1686.0699501037598 USD***\n",
      "***Started Gen 10***\n",
      "***Average Performance: 914.9389390640259 USD***\n",
      "***Best Performance: 1686.0699501037598 USD***\n",
      "***Started Gen 11***\n",
      "***Average Performance: 913.666058605194 USD***\n",
      "***Best Performance: 1686.0699501037598 USD***\n",
      "***Started Gen 12***\n",
      "***Average Performance: 916.1832390670777 USD***\n",
      "***Best Performance: 1686.0699501037598 USD***\n",
      "***Started Gen 13***\n",
      "***Average Performance: 916.7266590080261 USD***\n",
      "***Best Performance: 1686.0699501037598 USD***\n",
      "***Started Gen 14***\n",
      "***Average Performance: 921.8972888145447 USD***\n",
      "***Best Performance: 1686.0699501037598 USD***\n",
      "***Started Gen 15***\n",
      "***Average Performance: 921.9051188240052 USD***\n",
      "***Best Performance: 1686.0699501037598 USD***\n",
      "***Started Gen 16***\n",
      "***Average Performance: 921.9249889755249 USD***\n",
      "***Best Performance: 1686.0699501037598 USD***\n",
      "***Started Gen 17***\n",
      "***Average Performance: 920.7909808616638 USD***\n",
      "***Best Performance: 1686.0699501037598 USD***\n",
      "***Started Gen 18***\n",
      "***Average Performance: 921.7123989067078 USD***\n",
      "***Best Performance: 1686.0699501037598 USD***\n",
      "***Started Gen 19***\n",
      "***Average Performance: 920.6643788375854 USD***\n",
      "***Best Performance: 1686.0699501037598 USD***\n",
      "***Started Gen 20***\n",
      "***Average Performance: 921.456169353485 USD***\n",
      "***Best Performance: 1686.0699501037598 USD***\n",
      "***Started Gen 21***\n",
      "***Average Performance: 924.5832086753845 USD***\n",
      "***Best Performance: 1686.0699501037598 USD***\n",
      "***Started Gen 22***\n",
      "***Average Performance: 921.8135091323852 USD***\n",
      "***Best Performance: 1686.0699501037598 USD***\n",
      "***Started Gen 23***\n",
      "***Average Performance: 921.3523585700989 USD***\n",
      "***Best Performance: 1686.0699501037598 USD***\n",
      "***Started Gen 24***\n",
      "***Average Performance: 925.1342685928345 USD***\n",
      "***Best Performance: 1686.0699501037598 USD***\n",
      "***Started Gen 25***\n",
      "***Average Performance: 922.9694789276123 USD***\n",
      "***Best Performance: 1686.0699501037598 USD***\n",
      "***Started Gen 26***\n",
      "***Average Performance: 924.4537186584473 USD***\n",
      "***Best Performance: 1686.0699501037598 USD***\n",
      "***Started Gen 27***\n",
      "***Average Performance: 924.2925086708069 USD***\n",
      "***Best Performance: 1686.0699501037598 USD***\n",
      "***Started Gen 28***\n",
      "***Average Performance: 922.67481873703 USD***\n",
      "***Best Performance: 1686.0699501037598 USD***\n",
      "***Started Gen 29***\n",
      "***Average Performance: 922.8108188018799 USD***\n",
      "***Best Performance: 1686.0699501037598 USD***\n",
      "***Started Gen 30***\n",
      "***Average Performance: 923.086518737793 USD***\n",
      "***Best Performance: 1686.0699501037598 USD***\n",
      "***Started Gen 31***\n",
      "***Average Performance: 922.67481873703 USD***\n",
      "***Best Performance: 1686.0699501037598 USD***\n",
      "***Started Gen 32***\n",
      "***Average Performance: 925.0523486747742 USD***\n",
      "***Best Performance: 1686.0699501037598 USD***\n",
      "***Started Gen 33***\n",
      "***Average Performance: 924.9263285331726 USD***\n",
      "***Best Performance: 1686.0699501037598 USD***\n",
      "***Started Gen 34***\n",
      "***Average Performance: 924.0311086730957 USD***\n",
      "***Best Performance: 1686.0699501037598 USD***\n",
      "***Started Gen 35***\n",
      "***Average Performance: 924.9197285423279 USD***\n",
      "***Best Performance: 1686.0699501037598 USD***\n",
      "***Started Gen 36***\n",
      "***Average Performance: 924.860598575592 USD***\n",
      "***Best Performance: 1686.0699501037598 USD***\n",
      "***Started Gen 37***\n",
      "***Average Performance: 924.8337887496948 USD***\n",
      "***Best Performance: 1686.0699501037598 USD***\n",
      "***Started Gen 38***\n",
      "***Average Performance: 923.5237386741638 USD***\n",
      "***Best Performance: 1686.0699501037598 USD***\n",
      "***Started Gen 39***\n",
      "***Average Performance: 924.5124086608887 USD***\n",
      "***Best Performance: 1686.0699501037598 USD***\n",
      "***Started Gen 40***\n",
      "***Average Performance: 925.0537785949707 USD***\n",
      "***Best Performance: 1686.0699501037598 USD***\n",
      "***Started Gen 41***\n",
      "***Average Performance: 924.3744487037659 USD***\n",
      "***Best Performance: 1686.0699501037598 USD***\n",
      "***Started Gen 42***\n",
      "***Average Performance: 924.196598651886 USD***\n",
      "***Best Performance: 1686.0699501037598 USD***\n",
      "***Started Gen 43***\n",
      "***Average Performance: 925.2215785484314 USD***\n",
      "***Best Performance: 1686.0699501037598 USD***\n",
      "***Started Gen 44***\n",
      "***Average Performance: 925.2215785484314 USD***\n",
      "***Best Performance: 1686.0699501037598 USD***\n",
      "***Started Gen 45***\n",
      "***Average Performance: 925.2215785484314 USD***\n",
      "***Best Performance: 1686.0699501037598 USD***\n",
      "***Started Gen 46***\n",
      "***Average Performance: 924.7971185798644 USD***\n",
      "***Best Performance: 1686.0699501037598 USD***\n",
      "***Started Gen 47***\n",
      "***Average Performance: 925.2215785484314 USD***\n",
      "***Best Performance: 1686.0699501037598 USD***\n",
      "***Started Gen 48***\n",
      "***Average Performance: 925.2215785484314 USD***\n",
      "***Best Performance: 1686.0699501037598 USD***\n",
      "***Started Gen 49***\n",
      "***Average Performance: 925.3003089027404 USD***\n",
      "***Best Performance: 1686.0699501037598 USD***\n"
     ]
    }
   ],
   "source": [
    "for gen in range(generations):\n",
    "    market.day = 0\n",
    "    if gen != 0:\n",
    "        population.next_generation(data[0])\n",
    "    print('***Started Gen ' + str(gen) + '***')\n",
    "    bar = IncrementalBar('Working...', max=len(market.price_list)-1)\n",
    "    for day in range(len(market.price_list)-1):\n",
    "        data = [market.price, market.two_ema, market.five_ema, market.ten_ema, market.fifteen_ema]\n",
    "        population.evaluate(data)\n",
    "        population.execute(data[0], day)\n",
    "        market.next_day()\n",
    "        bar.next()\n",
    "    bar.finish()\n",
    "    best_agent = population.best_agent(data[0])\n",
    "    best_performance = best_agent.total_assets(data[0])\n",
    "    best_performances.append(best_performance)\n",
    "    avg_assets = population.average_assets(data[0])\n",
    "    avg_performances.append(avg_assets)\n",
    "    print('***Average Performance: ' + str(avg_assets) + ' USD***')\n",
    "    print('***Best Performance: ' + str(best_performance) + ' USD***')\n",
    "    \n",
    "    \n",
    "    \n",
    "      "
   ]
  },
  {
   "cell_type": "code",
   "execution_count": 19,
   "id": "9052c93b",
   "metadata": {},
   "outputs": [],
   "source": [
    "price_df = pd.DataFrame(DataReader('GS', 'yahoo', start = start_date, end = end_date)['Close'])\n",
    "pricelist = price_df['Close'].tolist()\n",
    "datelist=price_df.index.tolist()\n",
    "\n",
    "daylist = best_agent.date_history\n",
    "translist = best_agent.trans_history\n",
    "transaction_price = []\n",
    "transaction_date = []\n",
    "for day in daylist:\n",
    "    transaction_price.append(pricelist[day])\n",
    "    transaction_date.append(datelist[day])"
   ]
  },
  {
   "cell_type": "code",
   "execution_count": 20,
   "id": "4df625b0",
   "metadata": {},
   "outputs": [
    {
     "data": {
      "text/plain": [
       "[<matplotlib.lines.Line2D at 0x2b3050f0ca0>]"
      ]
     },
     "execution_count": 20,
     "metadata": {},
     "output_type": "execute_result"
    },
    {
     "data": {
      "image/png": "[encoded data removed]",
      "text/plain": [
       "<Figure size 1080x360 with 1 Axes>"
      ]
     },
     "metadata": {},
     "output_type": "display_data"
    }
   ],
   "source": [
    "colors = {'buy':'green', 'sell':'red'}\n",
    "df = pd.DataFrame(dict(trans_date=transaction_date, trans_price=transaction_price, trans_type = translist))\n",
    "plt.figure(figsize=(15,5))\n",
    "plt.scatter(df['trans_date'],df['trans_price'],s=25,c=df['trans_type'].map(colors),zorder=2)\n",
    "plt.plot(datelist, pricelist, color='blue',zorder=1)\n",
    "\n"
   ]
  },
  {
   "cell_type": "code",
   "execution_count": 21,
   "id": "b3eb827d",
   "metadata": {},
   "outputs": [
    {
     "name": "stdout",
     "output_type": "stream",
     "text": [
      "[0.20607672163818092, -0.7185289000882285, -0.1926177706072052, 0.4225725617958973, 0.3285174934314221]\n"
     ]
    }
   ],
   "source": [
    "print(best_agent.g)"
   ]
  },
  {
   "cell_type": "code",
   "execution_count": 22,
   "id": "2bdc7362",
   "metadata": {},
   "outputs": [
    {
     "name": "stdout",
     "output_type": "stream",
     "text": [
      "[104.94999694824219, 104.2699966430664, 88.80000305175781, 78.98999786376953, 65.76000213623047, 80.7300033569336, 77.0, 86.76000213623047, 84.5, 59.20000076293945, 92.8499984741211, 90.4000015258789, 98.80000305175781, 93.9000015258789, 105.25, 97.31999969482422, 111.93000030517578, 108.08000183105469, 119.4000015258789, 116.6500015258789, 130.14999389648438, 115.11000061035156, 115.86000061035156, 109.55000305175781, 203.94000244140625, 206.25999450683594, 202.5399932861328, 197.67999267578125, 184.25999450683594, 178.22999572753906, 209.66000366210938, 201.22000122070312]\n"
     ]
    }
   ],
   "source": [
    "print(transaction_price)"
   ]
  },
  {
   "cell_type": "code",
   "execution_count": 23,
   "id": "519bd259",
   "metadata": {},
   "outputs": [
    {
     "name": "stdout",
     "output_type": "stream",
     "text": [
      "[0, 1, 950, 984, 985, 999, 1000, 1007, 1010, 1018, 1030, 1033, 1055, 1056, 1058, 1060, 1061, 1065, 1070, 1071, 1075, 1076, 1719, 1720, 2987, 2990, 3535, 3536, 3843, 3845, 3875, 3876]\n"
     ]
    }
   ],
   "source": [
    "print(daylist)"
   ]
  },
  {
   "cell_type": "code",
   "execution_count": 24,
   "id": "b03e9054",
   "metadata": {},
   "outputs": [
    {
     "name": "stdout",
     "output_type": "stream",
     "text": [
      "[Timestamp('2005-01-03 00:00:00'), Timestamp('2005-01-04 00:00:00'), Timestamp('2008-10-10 00:00:00'), Timestamp('2008-11-28 00:00:00'), Timestamp('2008-12-01 00:00:00'), Timestamp('2008-12-19 00:00:00'), Timestamp('2008-12-22 00:00:00'), Timestamp('2009-01-02 00:00:00'), Timestamp('2009-01-07 00:00:00'), Timestamp('2009-01-20 00:00:00'), Timestamp('2009-02-05 00:00:00'), Timestamp('2009-02-10 00:00:00'), Timestamp('2009-03-13 00:00:00'), Timestamp('2009-03-16 00:00:00'), Timestamp('2009-03-18 00:00:00'), Timestamp('2009-03-20 00:00:00'), Timestamp('2009-03-23 00:00:00'), Timestamp('2009-03-27 00:00:00'), Timestamp('2009-04-03 00:00:00'), Timestamp('2009-04-06 00:00:00'), Timestamp('2009-04-13 00:00:00'), Timestamp('2009-04-14 00:00:00'), Timestamp('2011-10-28 00:00:00'), Timestamp('2011-10-31 00:00:00'), Timestamp('2016-11-11 00:00:00'), Timestamp('2016-11-16 00:00:00'), Timestamp('2019-01-18 00:00:00'), Timestamp('2019-01-22 00:00:00'), Timestamp('2020-04-09 00:00:00'), Timestamp('2020-04-14 00:00:00'), Timestamp('2020-05-27 00:00:00'), Timestamp('2020-05-28 00:00:00')]\n"
     ]
    }
   ],
   "source": [
    "print(transaction_date)"
   ]
  },
  {
   "cell_type": "code",
   "execution_count": 25,
   "id": "f164341a",
   "metadata": {},
   "outputs": [
    {
     "name": "stdout",
     "output_type": "stream",
     "text": [
      "['buy', 'buy', 'buy', 'sell', 'buy', 'sell', 'buy', 'sell', 'buy', 'buy', 'sell', 'buy', 'sell', 'buy', 'sell', 'buy', 'sell', 'buy', 'sell', 'buy', 'sell', 'buy', 'sell', 'buy', 'sell', 'buy', 'sell', 'buy', 'sell', 'buy', 'sell', 'buy']\n"
     ]
    }
   ],
   "source": [
    "print(translist)"
   ]
  },
  {
   "cell_type": "code",
   "execution_count": null,
   "id": "7496af7e",
   "metadata": {},
   "outputs": [],
   "source": []
  }
 ],
 "metadata": {
  "kernelspec": {
   "display_name": "gatsbienv",
   "language": "python",
   "name": "gatsbienv"
  },
  "language_info": {
   "codemirror_mode": {
    "name": "ipython",
    "version": 3
   },
   "file_extension": ".py",
   "mimetype": "text/x-python",
   "name": "python",
   "nbconvert_exporter": "python",
   "pygments_lexer": "ipython3",
   "version": "3.9.12"
  }
 },
 "nbformat": 4,
 "nbformat_minor": 5
}
