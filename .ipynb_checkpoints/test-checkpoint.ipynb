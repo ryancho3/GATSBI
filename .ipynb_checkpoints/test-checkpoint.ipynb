{
 "cells": [
  {
   "cell_type": "code",
   "execution_count": 1,
   "id": "ff5a6708",
   "metadata": {},
   "outputs": [],
   "source": [
    "#Genetic Algorithm to Trade Stocks Based on Indicators (GATSBI)\n",
    "\n",
    "from pandas_datareader.data import DataReader\n",
    "import pandas as pd\n",
    "import matplotlib.pyplot as plt\n",
    "import numpy as np\n",
    "import matplotlib.dates as mdates\n",
    "%matplotlib inline\n",
    "import seaborn as sns\n",
    "sns.set(style='darkgrid', context='talk', palette='Dark2')\n",
    "import random\n",
    "from progress.bar import IncrementalBar"
   ]
  },
  {
   "cell_type": "code",
   "execution_count": 2,
   "id": "7b8a11cb",
   "metadata": {},
   "outputs": [],
   "source": [
    "start_date = '2005/01/01'\n",
    "end_date = '2022/05/16'\n",
    "my_year_month_fmt = mdates.DateFormatter('%m/%y')"
   ]
  },
  {
   "cell_type": "code",
   "execution_count": 3,
   "id": "aebfaa10",
   "metadata": {},
   "outputs": [],
   "source": [
    "class Agent():\n",
    "    def __init__(self, cash):\n",
    "        self.cash = cash\n",
    "        self.init_cash = cash\n",
    "        self.stock = 0\n",
    "        self.position = \"long\"\n",
    "        self.g = []\n",
    "        for i in range(5):\n",
    "            self.g.append(0)\n",
    "        self.date_history = []\n",
    "        self.trans_history = []\n",
    "\n",
    "    def reset(self):\n",
    "        self.cash = self.init_cash\n",
    "        self.stock = 0\n",
    "        self.position = \"long\"\n",
    "        self.date_history = []\n",
    "        self.trans_history = []\n",
    "    def randomize(self):\n",
    "        for i in range(5):\n",
    "            self.g[i] = random.uniform(-1,1)\n",
    "\n",
    "    def evaluate(self, data):\n",
    "        det = data[0]*self.g[0] + data[1]*self.g[1] + data[2]*self.g[2] + data[3]*self.g[3] + data[4]*self.g[4]\n",
    "        if det>=0:\n",
    "            self.position = \"long\"\n",
    "        if det<0:\n",
    "            self.position = \"short\"\n",
    "        return self.position\n",
    "    \n",
    "    def execute(self, price, day):\n",
    "        if self.position == \"long\":\n",
    "            if self.cash < price:\n",
    "                return \"hold\"\n",
    "            count = 0\n",
    "            while self.cash >= price:\n",
    "                count = count + 1\n",
    "                self.stock = self.stock + 1\n",
    "                self.cash = self.cash - price\n",
    "            self.date_history.append(day)\n",
    "            self.trans_history.append('buy')\n",
    "            return \"Bought \" + str(count) + \" stocks.\"\n",
    "        if self.position == \"short\" and self.stock != 0:\n",
    "            n = self.stock\n",
    "            for i in range(n):\n",
    "                self.stock = self.stock - 1\n",
    "                self.cash = self.cash + price\n",
    "            self.date_history.append(day)\n",
    "            self.trans_history.append('sell')\n",
    "            return \"Sold \" + str(n) + \" stocks.\"\n",
    "    def total_assets(self, price):\n",
    "        stock_value = self.stock * price\n",
    "        return stock_value + self.cash\n",
    "    \n"
   ]
  },
  {
   "cell_type": "code",
   "execution_count": 4,
   "id": "51a2b337",
   "metadata": {},
   "outputs": [],
   "source": [
    "class Population:\n",
    "    \n",
    "    def __init__(self, n, cash, m):\n",
    "        self.n = n\n",
    "        self.cash = cash\n",
    "        self.m = m\n",
    "        self.pop = []\n",
    "        for i in range(self.n):\n",
    "            self.pop.append(Agent(self.cash))\n",
    "        for a in self.pop:\n",
    "            a.randomize()\n",
    "            \n",
    "    def evaluate(self, data):\n",
    "        for agent in self.pop:\n",
    "            agent.evaluate(data)\n",
    "    \n",
    "    def execute(self, price, day):\n",
    "        for agent in self.pop:\n",
    "            agent.execute(price, day)\n",
    "    \n",
    "    def total_assets_all(self, price):\n",
    "        tot = 0.0\n",
    "        for a in self.pop:\n",
    "            tot = tot + a.total_assets(price)\n",
    "        return tot\n",
    "    \n",
    "    def best_agent(self, price):\n",
    "        maximum = 0\n",
    "        index = 0\n",
    "        for i in range(len(self.pop)):\n",
    "            if (self.pop[i].total_assets(price)>maximum):\n",
    "                index = i\n",
    "                maximum = self.pop[i].total_assets(price)\n",
    "        return self.pop[index]\n",
    "    \n",
    "    def average_assets(self, price):\n",
    "        return self.total_assets_all(price)/self.n\n",
    "    \n",
    "    def select(self, price):\n",
    "        threshold = random.uniform(0, self.total_assets_all(price))\n",
    "        total = 0\n",
    "        for j in range(len(self.pop)):\n",
    "            total = total+self.pop[j].total_assets(price)\n",
    "            if total >= threshold:\n",
    "                return self.pop[j]\n",
    "    \n",
    "    def generate_child(self, parent1, parent2):\n",
    "        child = Agent(self.cash)\n",
    "        for i in range(len(parent1.g)):\n",
    "            if random.uniform(0,1) > 0.5:\n",
    "                child.g[i] = parent1.g[i]\n",
    "            else:\n",
    "                child.g[i] = parent2.g[i]\n",
    "                \n",
    "            if random.uniform(0,1) <= self.m:\n",
    "                child.g[i] = random.uniform(0,1)\n",
    "        return child\n",
    "    \n",
    "    def next_generation(self, price):\n",
    "        best_agent = self.best_agent(price)\n",
    "        best_agent.reset()\n",
    "        next_gen = []\n",
    "        rand = random.randint(0,self.n-1)\n",
    "        for i in range(self.n-1):\n",
    "            parent1 = self.select(price)\n",
    "            parent2 = self.select(price)\n",
    "            next_gen.append(self.generate_child(parent1, parent2))\n",
    "            if (i == random):\n",
    "                next_gen.append(best_agent)\n",
    "        self.pop = next_gen\n",
    "    \n",
    "        "
   ]
  },
  {
   "cell_type": "code",
   "execution_count": 5,
   "id": "846fa1f1",
   "metadata": {},
   "outputs": [],
   "source": [
    "class Market:\n",
    "    \n",
    "    def __init__(self, start_date, end_date, ticker):\n",
    "        self.day = 0\n",
    "        price_df = pd.DataFrame(DataReader(ticker, 'yahoo', start = start_date, end = end_date)['Close'])\n",
    "        self.price_list = price_df['Close'].tolist()\n",
    "        two_ema_df = price_df.ewm(span=2, adjust=False).mean()\n",
    "        self.two_ema_list = two_ema_df['Close'].tolist()\n",
    "        five_ema_df = price_df.ewm(span=5, adjust=False).mean()\n",
    "        self.five_ema_list = five_ema_df['Close'].tolist()\n",
    "        ten_ema_df = price_df.ewm(span=10, adjust=False).mean()\n",
    "        self.ten_ema_list = ten_ema_df['Close'].tolist()\n",
    "        fifteen_ema_df = price_df.ewm(span=15, adjust=False).mean()\n",
    "        self.fifteen_ema_list = fifteen_ema_df['Close'].tolist()\n",
    "        \n",
    "        self.reset()\n",
    "        \n",
    "    \n",
    "    def next_day(self):\n",
    "        self.day = self.day + 1\n",
    "        self.price = self.price_list[self.day]\n",
    "        self.two_ema = self.two_ema_list[self.day]\n",
    "        self.five_ema = self.five_ema_list[self.day]\n",
    "        self.ten_ema = self.ten_ema_list[self.day]\n",
    "        self.fifteen_ema = self.fifteen_ema_list[self.day]\n",
    "    \n",
    "    def reset(self):\n",
    "        self.day = 0\n",
    "        self.price = self.price_list[0]\n",
    "        self.two_ema = self.two_ema_list[0]\n",
    "        self.five_ema = self.five_ema_list[0]\n",
    "        self.ten_ema = self.ten_ema_list[0]\n",
    "        self.fifteen_ema = self.fifteen_ema_list[0]\n",
    "        \n",
    "\n",
    "        "
   ]
  },
  {
   "cell_type": "code",
   "execution_count": 6,
   "id": "626ea385",
   "metadata": {},
   "outputs": [],
   "source": [
    "market = Market(start_date, end_date, 'GS')\n",
    "population = Population(1000,500,0.02)\n",
    "generations = 1000\n"
   ]
  },
  {
   "cell_type": "code",
   "execution_count": 7,
   "id": "0aef2584",
   "metadata": {},
   "outputs": [],
   "source": [
    "best_performances = []\n",
    "avg_performances = []"
   ]
  },
  {
   "cell_type": "code",
   "execution_count": 8,
   "id": "b306ab3a",
   "metadata": {
    "scrolled": true
   },
   "outputs": [
    {
     "name": "stdout",
     "output_type": "stream",
     "text": [
      "***Started Gen 0***\n",
      "***Average Performance: 199.24839561462403 USD***\n",
      "***Best Performance: 441.2300491333008 USD***\n",
      "***Started Gen 1***\n",
      "***Average Performance: 236.88069383621215 USD***\n",
      "***Best Performance: 400.4000473022461 USD***\n",
      "***Started Gen 2***\n",
      "***Average Performance: 265.2842725067139 USD***\n",
      "***Best Performance: 367.0699768066406 USD***\n",
      "***Started Gen 3***\n",
      "***Average Performance: 280.22534197998044 USD***\n",
      "***Best Performance: 367.2900085449219 USD***\n",
      "***Started Gen 4***\n"
     ]
    },
    {
     "ename": "KeyboardInterrupt",
     "evalue": "",
     "output_type": "error",
     "traceback": [
      "\u001b[1;31m---------------------------------------------------------------------------\u001b[0m",
      "\u001b[1;31mKeyboardInterrupt\u001b[0m                         Traceback (most recent call last)",
      "Input \u001b[1;32mIn [8]\u001b[0m, in \u001b[0;36m<cell line: 1>\u001b[1;34m()\u001b[0m\n\u001b[0;32m      7\u001b[0m \u001b[38;5;28;01mfor\u001b[39;00m day \u001b[38;5;129;01min\u001b[39;00m \u001b[38;5;28mrange\u001b[39m(\u001b[38;5;28mlen\u001b[39m(market\u001b[38;5;241m.\u001b[39mprice_list)\u001b[38;5;241m-\u001b[39m\u001b[38;5;241m1\u001b[39m):\n\u001b[0;32m      8\u001b[0m     data \u001b[38;5;241m=\u001b[39m [market\u001b[38;5;241m.\u001b[39mprice, market\u001b[38;5;241m.\u001b[39mtwo_ema, market\u001b[38;5;241m.\u001b[39mfive_ema, market\u001b[38;5;241m.\u001b[39mten_ema, market\u001b[38;5;241m.\u001b[39mfifteen_ema]\n\u001b[1;32m----> 9\u001b[0m     \u001b[43mpopulation\u001b[49m\u001b[38;5;241;43m.\u001b[39;49m\u001b[43mevaluate\u001b[49m\u001b[43m(\u001b[49m\u001b[43mdata\u001b[49m\u001b[43m)\u001b[49m\n\u001b[0;32m     10\u001b[0m     population\u001b[38;5;241m.\u001b[39mexecute(data[\u001b[38;5;241m0\u001b[39m], day)\n\u001b[0;32m     11\u001b[0m     market\u001b[38;5;241m.\u001b[39mnext_day()\n",
      "Input \u001b[1;32mIn [4]\u001b[0m, in \u001b[0;36mPopulation.evaluate\u001b[1;34m(self, data)\u001b[0m\n\u001b[0;32m     13\u001b[0m \u001b[38;5;28;01mdef\u001b[39;00m \u001b[38;5;21mevaluate\u001b[39m(\u001b[38;5;28mself\u001b[39m, data):\n\u001b[0;32m     14\u001b[0m     \u001b[38;5;28;01mfor\u001b[39;00m agent \u001b[38;5;129;01min\u001b[39;00m \u001b[38;5;28mself\u001b[39m\u001b[38;5;241m.\u001b[39mpop:\n\u001b[1;32m---> 15\u001b[0m         \u001b[43magent\u001b[49m\u001b[38;5;241;43m.\u001b[39;49m\u001b[43mevaluate\u001b[49m\u001b[43m(\u001b[49m\u001b[43mdata\u001b[49m\u001b[43m)\u001b[49m\n",
      "\u001b[1;31mKeyboardInterrupt\u001b[0m: "
     ]
    }
   ],
   "source": [
    "for gen in range(generations):\n",
    "    market.day = 0\n",
    "    if gen != 0:\n",
    "        population.next_generation(data[0])\n",
    "    print('***Started Gen ' + str(gen) + '***')\n",
    "    bar = IncrementalBar('Working...', max=len(market.price_list)-1)\n",
    "    for day in range(len(market.price_list)-1):\n",
    "        data = [market.price, market.two_ema, market.five_ema, market.ten_ema, market.fifteen_ema]\n",
    "        population.evaluate(data)\n",
    "        population.execute(data[0], day)\n",
    "        market.next_day()\n",
    "        bar.next()\n",
    "    bar.finish()\n",
    "    best_agent = population.best_agent(data[0])\n",
    "    best_performance = best_agent.total_assets(data[0])\n",
    "    best_performances.append(best_performance)\n",
    "    avg_assets = population.average_assets(data[0])\n",
    "    avg_performances.append(avg_assets)\n",
    "    print('***Average Performance: ' + str(avg_assets) + ' USD***')\n",
    "    print('***Best Performance: ' + str(best_performance) + ' USD***')\n",
    "    \n",
    "    \n",
    "    \n",
    "      "
   ]
  },
  {
   "cell_type": "code",
   "execution_count": null,
   "id": "858c5042",
   "metadata": {},
   "outputs": [],
   "source": [
    "price_df = pd.DataFrame(DataReader('GS', 'yahoo', start = start_date, end = end_date)['Close'])\n",
    "pricelist = price_df['Close'].tolist()\n",
    "datelist=price_df.index.tolist()\n",
    "\n",
    "daylist = best_agent.date_history\n",
    "translist = best_agent.trans_history\n",
    "transaction_price = []\n",
    "transaction_date = []\n",
    "for day in daylist:\n",
    "    transaction_price.append(pricelist[day])\n",
    "    transaction_date.append(datelist[day])"
   ]
  },
  {
   "cell_type": "code",
   "execution_count": null,
   "id": "87135bf6",
   "metadata": {},
   "outputs": [],
   "source": [
    "colors = {'buy':'green', 'sell':'red'}\n",
    "df = pd.DataFrame(dict(trans_date=transaction_date, trans_price=transaction_price, trans_type = translist))\n",
    "plt.figure(figsize=(15,5))\n",
    "plt.scatter(df['trans_date'],df['trans_price'],s=25,c=df['trans_type'].map(colors),zorder=2)\n",
    "plt.plot(datelist, pricelist, color='blue',zorder=1)\n",
    "\n"
   ]
  },
  {
   "cell_type": "code",
   "execution_count": null,
   "id": "3ce7942f",
   "metadata": {},
   "outputs": [],
   "source": [
    "print(best_agent.g)"
   ]
  },
  {
   "cell_type": "code",
   "execution_count": null,
   "id": "c140c2a4",
   "metadata": {},
   "outputs": [],
   "source": [
    "print(transaction_price)"
   ]
  },
  {
   "cell_type": "code",
   "execution_count": null,
   "id": "ab5ac11e",
   "metadata": {},
   "outputs": [],
   "source": [
    "print(daylist)"
   ]
  },
  {
   "cell_type": "code",
   "execution_count": null,
   "id": "a9d27005",
   "metadata": {},
   "outputs": [],
   "source": [
    "print(transaction_date)"
   ]
  },
  {
   "cell_type": "code",
   "execution_count": null,
   "id": "a40c6b99",
   "metadata": {},
   "outputs": [],
   "source": [
    "print(translist)"
   ]
  },
  {
   "cell_type": "code",
   "execution_count": null,
   "id": "d3f852b5",
   "metadata": {},
   "outputs": [],
   "source": []
  }
 ],
 "metadata": {
  "kernelspec": {
   "display_name": "gatsbienv",
   "language": "python",
   "name": "gatsbienv"
  },
  "language_info": {
   "codemirror_mode": {
    "name": "ipython",
    "version": 3
   },
   "file_extension": ".py",
   "mimetype": "text/x-python",
   "name": "python",
   "nbconvert_exporter": "python",
   "pygments_lexer": "ipython3",
   "version": "3.9.12"
  }
 },
 "nbformat": 4,
 "nbformat_minor": 5
}
